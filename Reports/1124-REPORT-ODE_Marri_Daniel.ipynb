{
 "cells": [
  {
   "cell_type": "markdown",
   "metadata": {},
   "source": [
    "#  <center> Using Ordinary Differential Equations (ODE's) in Systems Biology </center>\n",
    "\n",
    "<center>by Daniel Marri </center>"
   ]
  },
  {
   "cell_type": "markdown",
   "metadata": {},
   "source": [
    "Introduction\n",
    "------------"
   ]
  },
  {
   "cell_type": "markdown",
   "metadata": {},
   "source": [
    "Dynamics deals with changes or the evolution of a system with respect to time. In the area of systems biology dynamics typically refer to the changes in molecular concentrations (or numbers) within a cell with respect time. These allow scientist to understand the behaiviour of the system (the growth of cells in a tissue, the production of mRNA's by genes etc) they are considering. The molecular information from the system can be represented as \n",
    "network and later transformed into systems of Ordinary Differential Equations (ODE's) to overcome the curse of complexity. Systems of Ordinary Differential Equations (ODE's) based kinetic models are built to capture all the available kinetic information about biological system. These equations are used extensively in systems biology especially for the purpose of predicting time dependent profiles and steady state levels of biochemical species in conditions given the state of a system now, the state of the system at some future time where experimental data is not available. "
   ]
  },
  {
   "cell_type": "markdown",
   "metadata": {},
   "source": [
    "ODE models for fystem biology has the general form: "
   ]
  },
  {
   "cell_type": "markdown",
   "metadata": {},
   "source": [
    "<center> $\\dfrac{dX}{dt} = f(X)$ </center>"
   ]
  },
  {
   "cell_type": "markdown",
   "metadata": {},
   "source": [
    "where $X$ is the  a state components of the biological system such as the concentration of mRNA in a Gene Regulatory Network. $X$ is usually a vector, and $f$ is a function for $X$. There are two main types of ODE models used in the area of system biology. The linear ODE model and Nonlinear ODE models. The system of ODE's is said to be linear if the function $f$ used in the equation is linear function and nonlinear if the function $f$ used in the equation is  a nonlinear function."
   ]
  },
  {
   "cell_type": "markdown",
   "metadata": {},
   "source": [
    "# Applications of ODE's in System Biology"
   ]
  },
  {
   "cell_type": "markdown",
   "metadata": {},
   "source": [
    "ODE's models are widely used in system biology research area. This ranges from diseases modeling, cancer growth to gene regulatory network modeling. In building linear ODE model, the mass action law and the mass conservation laws are used whiles the Micgealis Menten Kinetics which is a nonlinear kinetics is used to build models for biochemical reactions. "
   ]
  },
  {
   "cell_type": "markdown",
   "metadata": {},
   "source": [
    "# Example of Machine Learning algorithm used in System Biology. "
   ]
  },
  {
   "cell_type": "markdown",
   "metadata": {},
   "source": [
    "This example uses the tellurium library in python and build a mathematical model to simulate Circadian Rythym using 23 differential equations from 5 protein coding genes."
   ]
  },
  {
   "cell_type": "code",
   "execution_count": 3,
   "metadata": {},
   "outputs": [
    {
     "ename": "ModuleNotFoundError",
     "evalue": "No module named 'tellurium'",
     "output_type": "error",
     "traceback": [
      "\u001b[0;31m---------------------------------------------------------------------------\u001b[0m",
      "\u001b[0;31mModuleNotFoundError\u001b[0m                       Traceback (most recent call last)",
      "\u001b[0;32m<ipython-input-3-f9c6b78bf949>\u001b[0m in \u001b[0;36m<module>\u001b[0;34m\u001b[0m\n\u001b[1;32m      1\u001b[0m \u001b[0;32mfrom\u001b[0m \u001b[0m__future__\u001b[0m \u001b[0;32mimport\u001b[0m \u001b[0mprint_function\u001b[0m\u001b[0;34m\u001b[0m\u001b[0;34m\u001b[0m\u001b[0m\n\u001b[0;32m----> 2\u001b[0;31m \u001b[0;32mimport\u001b[0m \u001b[0mtellurium\u001b[0m \u001b[0;32mas\u001b[0m \u001b[0mte\u001b[0m\u001b[0;34m\u001b[0m\u001b[0;34m\u001b[0m\u001b[0m\n\u001b[0m\u001b[1;32m      3\u001b[0m \u001b[0;32mimport\u001b[0m \u001b[0mantimony\u001b[0m\u001b[0;34m\u001b[0m\u001b[0;34m\u001b[0m\u001b[0m\n\u001b[1;32m      4\u001b[0m \u001b[0;32mimport\u001b[0m \u001b[0mnumpy\u001b[0m \u001b[0;32mas\u001b[0m \u001b[0mnp\u001b[0m\u001b[0;34m\u001b[0m\u001b[0;34m\u001b[0m\u001b[0m\n\u001b[1;32m      5\u001b[0m \u001b[0;32mimport\u001b[0m \u001b[0mrandom\u001b[0m\u001b[0;34m\u001b[0m\u001b[0;34m\u001b[0m\u001b[0m\n",
      "\u001b[0;31mModuleNotFoundError\u001b[0m: No module named 'tellurium'"
     ]
    }
   ],
   "source": [
    "from __future__ import print_function\n",
    "import tellurium as te\n",
    "import antimony\n",
    "import numpy as np\n",
    "import random\n",
    "import matplotlib.pyplot as plt\n",
    "from roadrunner import Config\n",
    "from tellurium import ParameterScan\n",
    "from tellurium.analysis.parameterscan import plot2DParameterScan\n",
    "\n"
   ]
  },
  {
   "cell_type": "markdown",
   "metadata": {},
   "source": [
    "Building the model with 23 states which means 23 differential equation model from five genes (Per,Cry,Bmal1,Ror and Reverb).\n"
   ]
  },
  {
   "cell_type": "code",
   "execution_count": null,
   "metadata": {},
   "outputs": [],
   "source": [
    "pip install tellurium"
   ]
  },
  {
   "cell_type": "code",
   "execution_count": null,
   "metadata": {},
   "outputs": [],
   "source": []
  },
  {
   "cell_type": "code",
   "execution_count": null,
   "metadata": {},
   "outputs": [],
   "source": []
  }
 ],
 "metadata": {
  "kernelspec": {
   "display_name": "Python 3",
   "language": "python",
   "name": "python3"
  },
  "language_info": {
   "codemirror_mode": {
    "name": "ipython",
    "version": 3
   },
   "file_extension": ".py",
   "mimetype": "text/x-python",
   "name": "python",
   "nbconvert_exporter": "python",
   "pygments_lexer": "ipython3",
   "version": "3.7.6"
  }
 },
 "nbformat": 4,
 "nbformat_minor": 4
}
